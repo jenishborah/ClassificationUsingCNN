{
  "nbformat": 4,
  "nbformat_minor": 0,
  "metadata": {
    "colab": {
      "provenance": []
    },
    "kernelspec": {
      "name": "python3",
      "display_name": "Python 3"
    },
    "language_info": {
      "name": "python"
    }
  },
  "cells": [
    {
      "cell_type": "code",
      "execution_count": 1,
      "metadata": {
        "colab": {
          "base_uri": "https://localhost:8080/"
        },
        "id": "acLx5Zo864fe",
        "outputId": "c65cc887-d940-4f1d-a6f6-68cd953db219"
      },
      "outputs": [
        {
          "output_type": "stream",
          "name": "stdout",
          "text": [
            "Mounted at /content/drive\n"
          ]
        }
      ],
      "source": [
        "from google.colab import drive\n",
        "drive.mount('/content/drive')"
      ]
    },
    {
      "cell_type": "code",
      "source": [
        "import zipfile\n",
        "import os\n",
        "\n",
        "zip_ref = zipfile.ZipFile('/content/drive/MyDrive/File.zip', 'r')\n",
        "zip_ref.extractall('/content')\n",
        "zip_ref.close()"
      ],
      "metadata": {
        "id": "d8BuCxzy66en"
      },
      "execution_count": 2,
      "outputs": []
    },
    {
      "cell_type": "code",
      "source": [
        "import os\n",
        "import numpy as np\n",
        "import pandas as pd\n",
        "from PIL import Image"
      ],
      "metadata": {
        "id": "TgoVK2gv70aU"
      },
      "execution_count": 36,
      "outputs": []
    },
    {
      "cell_type": "code",
      "source": [
        "# Set the paths to the directories containing the images\n",
        "good_fern_dir = '/content/File/Class 1'\n",
        "poisonous_fern_dir = '/content/File/Class2'\n",
        "\n"
      ],
      "metadata": {
        "id": "XZiMD3T677VA"
      },
      "execution_count": 37,
      "outputs": []
    },
    {
      "cell_type": "code",
      "source": [
        "# Get the list of image files from both directories\n",
        "good_fern_files = os.listdir(good_fern_dir)\n",
        "poisonous_fern_files = os.listdir(poisonous_fern_dir)\n"
      ],
      "metadata": {
        "id": "64rHpfGN9GYy"
      },
      "execution_count": 38,
      "outputs": []
    },
    {
      "cell_type": "code",
      "source": [
        "# Reshape and store the images in a NumPy array\n",
        "resized_images = []\n",
        "labels = []\n"
      ],
      "metadata": {
        "id": "RCgGqQDk9M0e"
      },
      "execution_count": 39,
      "outputs": []
    },
    {
      "cell_type": "code",
      "source": [
        "# Process images from the \"good fiddle head fern\" folder\n",
        "for file in good_fern_files:\n",
        "    image_path = os.path.join(good_fern_dir, file)\n",
        "    image = Image.open(image_path)\n",
        "    resized_image = image.resize((224, 224))\n",
        "    resized_images.append(np.array(resized_image))\n",
        "    labels.append(0)  # Assign label 0 for \"good fiddle head fern\"\n",
        "\n",
        "# Process images from the \"poisonous fiddle head fern\" folder\n",
        "for file in poisonous_fern_files:\n",
        "    image_path = os.path.join(poisonous_fern_dir, file)\n",
        "    image = Image.open(image_path)\n",
        "    resized_image = image.resize((224, 224))\n",
        "    resized_images.append(np.array(resized_image))\n",
        "    labels.append(1)  # Assign label 1 for \"poisonous fiddle head fern\"\n",
        "\n"
      ],
      "metadata": {
        "id": "x0IId4Uw9NSp"
      },
      "execution_count": 40,
      "outputs": []
    },
    {
      "cell_type": "code",
      "source": [
        "# Convert the resized images and labels to NumPy arrays\n",
        "X = np.array(resized_images)\n",
        "y = np.array(labels)\n"
      ],
      "metadata": {
        "id": "-yHAlQX-9neV"
      },
      "execution_count": 41,
      "outputs": []
    },
    {
      "cell_type": "code",
      "source": [
        "# Create a DataFrame with filenames and labels\n",
        "df = pd.DataFrame({'filename': good_fern_files + poisonous_fern_files, 'label': y})\n"
      ],
      "metadata": {
        "id": "E65h7pPM9rjK"
      },
      "execution_count": 42,
      "outputs": []
    },
    {
      "cell_type": "code",
      "source": [
        "# Save the DataFrame as a CSV file\n",
        "output_file = '/content/File/image_data.csv'\n",
        "df.to_csv(output_file, index=False)"
      ],
      "metadata": {
        "id": "khRQHCQ29vJI"
      },
      "execution_count": 43,
      "outputs": []
    },
    {
      "cell_type": "code",
      "source": [
        "# Save the resized images and labels as separate NumPy arrays\n",
        "np.save('resized_images.npy', X)\n",
        "np.save('labels.npy', y)"
      ],
      "metadata": {
        "id": "4aTQYBHX9zqY"
      },
      "execution_count": 44,
      "outputs": []
    },
    {
      "cell_type": "code",
      "source": [
        "import numpy as np\n",
        "from tensorflow.keras.models import Sequential\n",
        "from tensorflow.keras.layers import Conv2D, MaxPooling2D, Flatten, Dense, Dropout\n",
        "from sklearn.model_selection import train_test_split\n"
      ],
      "metadata": {
        "id": "lH0-tIkS9125"
      },
      "execution_count": 45,
      "outputs": []
    },
    {
      "cell_type": "code",
      "source": [
        "# Load the resized images and labels\n",
        "X = np.load('resized_images.npy')\n",
        "y = np.load('labels.npy')\n"
      ],
      "metadata": {
        "id": "NPrlj5id94EB"
      },
      "execution_count": 46,
      "outputs": []
    },
    {
      "cell_type": "code",
      "source": [
        "# Split the data into training and testing sets\n",
        "X_train, X_test, y_train, y_test = train_test_split(X, y, test_size=0.2, random_state=42)\n",
        "\n"
      ],
      "metadata": {
        "id": "Md39AqO1-Alc"
      },
      "execution_count": 47,
      "outputs": []
    },
    {
      "cell_type": "code",
      "source": [
        "# Normalize pixel values to range [0, 1]\n",
        "X_train = X_train / 255.0\n",
        "X_test = X_test / 255.0\n"
      ],
      "metadata": {
        "id": "YpsdU-1s-M6q"
      },
      "execution_count": 48,
      "outputs": []
    },
    {
      "cell_type": "code",
      "source": [
        "# Define the CNN model\n",
        "model = Sequential()\n",
        "model.add(Conv2D(32, (3, 3), activation='relu', input_shape=(224, 224, 3)))\n",
        "model.add(MaxPooling2D((2, 2)))\n",
        "model.add(Conv2D(64, (3, 3), activation='relu'))\n",
        "model.add(MaxPooling2D((2, 2)))\n",
        "model.add(Conv2D(128, (3, 3), activation='relu'))\n",
        "model.add(MaxPooling2D((2, 2)))\n",
        "model.add(Flatten())\n",
        "model.add(Dense(256, activation='relu'))\n",
        "model.add(Dropout(0.5))\n",
        "model.add(Dense(1, activation='sigmoid'))\n"
      ],
      "metadata": {
        "id": "zMDeUlyh-DUr"
      },
      "execution_count": 49,
      "outputs": []
    },
    {
      "cell_type": "code",
      "source": [
        "# Compile the model\n",
        "model.compile(optimizer='adam', loss='binary_crossentropy', metrics=['accuracy'])\n"
      ],
      "metadata": {
        "id": "n5ILpLlTAB3x"
      },
      "execution_count": 50,
      "outputs": []
    },
    {
      "cell_type": "code",
      "source": [
        "# Train the model\n",
        "history = model.fit(X_train, y_train, batch_size=32, epochs=10, validation_data=(X_test, y_test))\n"
      ],
      "metadata": {
        "colab": {
          "base_uri": "https://localhost:8080/"
        },
        "id": "XKD6sqlI-QKX",
        "outputId": "51e27d32-823d-46d0-bdad-272f0847a999"
      },
      "execution_count": 51,
      "outputs": [
        {
          "output_type": "stream",
          "name": "stdout",
          "text": [
            "Epoch 1/10\n",
            "7/7 [==============================] - 36s 5s/step - loss: 2.4198 - accuracy: 0.4258 - val_loss: 0.6598 - val_accuracy: 0.6415\n",
            "Epoch 2/10\n",
            "7/7 [==============================] - 30s 4s/step - loss: 0.6427 - accuracy: 0.6699 - val_loss: 0.6098 - val_accuracy: 0.6415\n",
            "Epoch 3/10\n",
            "7/7 [==============================] - 29s 4s/step - loss: 0.5714 - accuracy: 0.7033 - val_loss: 0.4829 - val_accuracy: 0.8679\n",
            "Epoch 4/10\n",
            "7/7 [==============================] - 29s 4s/step - loss: 0.4077 - accuracy: 0.8325 - val_loss: 0.3258 - val_accuracy: 0.9057\n",
            "Epoch 5/10\n",
            "7/7 [==============================] - 28s 4s/step - loss: 0.3346 - accuracy: 0.8660 - val_loss: 0.3464 - val_accuracy: 0.8679\n",
            "Epoch 6/10\n",
            "7/7 [==============================] - 28s 4s/step - loss: 0.2347 - accuracy: 0.9187 - val_loss: 0.2020 - val_accuracy: 0.9245\n",
            "Epoch 7/10\n",
            "7/7 [==============================] - 29s 4s/step - loss: 0.1532 - accuracy: 0.9378 - val_loss: 0.1876 - val_accuracy: 0.9434\n",
            "Epoch 8/10\n",
            "7/7 [==============================] - 27s 4s/step - loss: 0.0967 - accuracy: 0.9809 - val_loss: 0.1823 - val_accuracy: 0.9434\n",
            "Epoch 9/10\n",
            "7/7 [==============================] - 31s 4s/step - loss: 0.0928 - accuracy: 0.9522 - val_loss: 0.2205 - val_accuracy: 0.9057\n",
            "Epoch 10/10\n",
            "7/7 [==============================] - 29s 4s/step - loss: 0.1208 - accuracy: 0.9665 - val_loss: 0.4359 - val_accuracy: 0.8868\n"
          ]
        }
      ]
    },
    {
      "cell_type": "code",
      "source": [
        "# Evaluate the model\n",
        "loss, accuracy = model.evaluate(X_test, y_test)\n",
        "print('Test Loss:', loss)\n",
        "print('Test Accuracy:', accuracy)\n"
      ],
      "metadata": {
        "colab": {
          "base_uri": "https://localhost:8080/"
        },
        "id": "EqISAoXX-bFn",
        "outputId": "81719491-a9af-44a3-f1ed-da0cbe16a20f"
      },
      "execution_count": 52,
      "outputs": [
        {
          "output_type": "stream",
          "name": "stdout",
          "text": [
            "2/2 [==============================] - 2s 1s/step - loss: 0.4359 - accuracy: 0.8868\n",
            "Test Loss: 0.4359007775783539\n",
            "Test Accuracy: 0.8867924809455872\n"
          ]
        }
      ]
    }
  ]
}